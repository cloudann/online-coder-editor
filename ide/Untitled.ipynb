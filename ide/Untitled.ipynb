{
 "cells": [
  {
   "cell_type": "code",
   "execution_count": null,
   "id": "d4349e59",
   "metadata": {},
   "outputs": [],
   "source": [
    "# -*- coding: utf-8 -*-\n",
    "# antuor:dxiaod\n",
    "from flask import Flask, request\n",
    "from flask_cors import *\n",
    "app = Flask(__name__)\n",
    "import file\n",
    "import complier\n",
    "import login\n",
    "import register\n",
    "import filecatalog\n",
    "\n",
    "@app.route('/register',methods=['POST'])\n",
    "@cross_origin()\n",
    "def Register():\n",
    "    print(\"App层接收注册请求\")\n",
    "    return register.Register(request.json)\n",
    "\n",
    "@app.route('/login',methods=['POST'])\n",
    "@cross_origin()\n",
    "def Login():\n",
    "\n",
    "    print(\"App层接收登录请求\")\n",
    "    return login.Login(request.json)\n",
    "    \n",
    "\n",
    "@app.route('/complier',methods=['POST'])\n",
    "@cross_origin()\n",
    "def com():\n",
    "\n",
    "    print(\"App层接收编译请求\")\n",
    "    return complier.Complier(request.json)\n",
    "'''\n",
    "    src = request.json.get('src')\n",
    "    filename = request.json.get('filename')\n",
    "    if request.json.get(\"request\") == \"complier\":\n",
    "        return complier.complier(src,request.json.get(\"code\"),filename)\n",
    "    elif request.json.get(\"request\") == \"run\":\n",
    "        return  complier.run(src,request.json.get('in'))\n",
    "    return \"hello\"\n",
    "'''    \n",
    "@app.route('/getfile',methods=['POST'])\n",
    "@cross_origin()\n",
    "def getfile():\n",
    "\n",
    "    print(\"App层接收目录管理请求\")\n",
    "    return  filecatalog.Catalog(request.json)\n",
    "\n",
    "\n",
    "app.run(host=\"0.0.0.0\",port= \"8080\",debug=True)"
   ]
  }
 ],
 "metadata": {
  "kernelspec": {
   "display_name": "Python 3 (ipykernel)",
   "language": "python",
   "name": "python3"
  },
  "language_info": {
   "codemirror_mode": {
    "name": "ipython",
    "version": 3
   },
   "file_extension": ".py",
   "mimetype": "text/x-python",
   "name": "python",
   "nbconvert_exporter": "python",
   "pygments_lexer": "ipython3",
   "version": "3.9.16"
  }
 },
 "nbformat": 4,
 "nbformat_minor": 5
}
